{
 "cells": [
  {
   "cell_type": "code",
   "execution_count": 2,
   "metadata": {},
   "outputs": [],
   "source": [
    "import pandas as pd  \n",
    "import numpy as np  \n",
    "from numpy import linalg\n",
    "from __future__ import division\n",
    "from scipy import spatial"
   ]
  },
  {
   "cell_type": "code",
   "execution_count": 3,
   "metadata": {},
   "outputs": [
    {
     "data": {
      "text/plain": [
       "'/home/nykabhishek/Documents/DTICryptotanshinone-master/PYTHON'"
      ]
     },
     "execution_count": 3,
     "metadata": {},
     "output_type": "execute_result"
    }
   ],
   "source": [
    "import os.path\n",
    "import glob\n",
    "os.getcwd()"
   ]
  },
  {
   "cell_type": "code",
   "execution_count": 15,
   "metadata": {},
   "outputs": [
    {
     "name": "stdout",
     "output_type": "stream",
     "text": [
      "[[ 1. nan  0. ...  0.  0.  0.]\n",
      " [nan  1.  0. ...  0.  0.  0.]\n",
      " [ 0.  0.  1. ...  0.  0.  0.]\n",
      " ...\n",
      " [ 0.  0.  0. ...  1.  0.  0.]\n",
      " [ 0.  0.  0. ...  0.  1.  0.]\n",
      " [ 0.  0.  0. ...  0.  0.  1.]]\n",
      "/home/nykabhishek/Documents/DTICryptotanshinone-master/PYTHON/Sim_mat_drug_drug..txt\n",
      "[[ 1.  0.  0. ...  0.  0.  0.]\n",
      " [ 0.  1.  0. ... nan  0.  0.]\n",
      " [ 0.  0.  1. ...  0.  0.  0.]\n",
      " ...\n",
      " [ 0. nan  0. ...  1.  0.  0.]\n",
      " [ 0.  0.  0. ...  0.  1.  0.]\n",
      " [ 0.  0.  0. ...  0.  0.  1.]]\n",
      "/home/nykabhishek/Documents/DTICryptotanshinone-master/PYTHON/Sim_mat_drug_prote.txt\n",
      "[[1. 0. 0. ... 0. 0. 0.]\n",
      " [0. 1. 0. ... 0. 0. 0.]\n",
      " [0. 0. 1. ... 0. 0. 0.]\n",
      " ...\n",
      " [0. 0. 0. ... 1. 0. 0.]\n",
      " [0. 0. 0. ... 0. 1. 0.]\n",
      " [0. 0. 0. ... 0. 0. 1.]]\n",
      "/home/nykabhishek/Documents/DTICryptotanshinone-master/PYTHON/Sim_mat_protein_pr.txt\n",
      "[[ 1. nan  0. ... nan nan  0.]\n",
      " [nan  1.  0. ... nan nan  0.]\n",
      " [ 0.  0.  1. ...  0.  0.  0.]\n",
      " ...\n",
      " [nan nan  0. ...  1. nan  0.]\n",
      " [nan nan  0. ... nan  1.  0.]\n",
      " [ 0.  0.  0. ...  0.  0.  1.]]\n",
      "/home/nykabhishek/Documents/DTICryptotanshinone-master/PYTHON/Sim_mat_protein_dr.txt\n",
      "[[1.         0.5394402  0.36111111 ... 0.48302207 0.47757671 0.        ]\n",
      " [0.5394402  1.         0.39004679 ... 0.60385627 0.48448145 0.        ]\n",
      " [0.36111111 0.39004679 1.         ... 0.3582343  0.4228962  0.        ]\n",
      " ...\n",
      " [0.48302207 0.60385627 0.3582343  ... 1.         0.46290572 0.        ]\n",
      " [0.47757671 0.48448145 0.4228962  ... 0.46290572 1.         0.        ]\n",
      " [0.         0.         0.         ... 0.         0.         1.        ]]\n",
      "/home/nykabhishek/Documents/DTICryptotanshinone-master/PYTHON/Sim_mat_protein_di.txt\n",
      "[[1.         0.19035533 0.28817204 ... 0.32352941 0.35049505 0.        ]\n",
      " [0.19035533 1.         0.1300813  ... 0.21621622 0.19633508 0.        ]\n",
      " [0.28817204 0.1300813  1.         ... 0.26041667 0.33408324 0.        ]\n",
      " ...\n",
      " [0.32352941 0.21621622 0.26041667 ... 1.         0.50393701 0.        ]\n",
      " [0.35049505 0.19633508 0.33408324 ... 0.50393701 1.         0.        ]\n",
      " [0.         0.         0.         ... 0.         0.         1.        ]]\n",
      "/home/nykabhishek/Documents/DTICryptotanshinone-master/PYTHON/Sim_mat_drug_disea.txt\n"
     ]
    }
   ],
   "source": [
    "f = os.getcwd()+ '/mat_*.txt'\n",
    "files = glob.glob(f)\n",
    "\n",
    "for filename in files:\n",
    "    M = np.loadtxt(filename)\n",
    "    Sim = 1 - spatial.distance.pdist(M, 'jaccard')\n",
    "    Sim = spatial.distance.squareform(Sim)\n",
    "    Sim = Sim + np.eye(M.shape[0])\n",
    "    np.nan_to_num(Sim)\n",
    "    print(Sim)\n",
    "    newfile = os.getcwd() +  '/Sim_mat_' + filename[66:76] + '.txt'\n",
    "    print(newfile)\n",
    "    np.savetxt(newfile,Sim)"
   ]
  },
  {
   "cell_type": "code",
   "execution_count": null,
   "metadata": {},
   "outputs": [],
   "source": []
  }
 ],
 "metadata": {
  "kernelspec": {
   "display_name": "Python 2",
   "language": "python",
   "name": "python2"
  },
  "language_info": {
   "codemirror_mode": {
    "name": "ipython",
    "version": 2
   },
   "file_extension": ".py",
   "mimetype": "text/x-python",
   "name": "python",
   "nbconvert_exporter": "python",
   "pygments_lexer": "ipython2",
   "version": "2.7.15"
  }
 },
 "nbformat": 4,
 "nbformat_minor": 2
}
